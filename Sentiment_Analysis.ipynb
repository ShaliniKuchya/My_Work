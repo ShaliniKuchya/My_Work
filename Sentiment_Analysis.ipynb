{
 "cells": [
  {
   "cell_type": "markdown",
   "metadata": {},
   "source": [
    "##              Sentiment Analysis On Twitter Data "
   ]
  },
  {
   "cell_type": "markdown",
   "metadata": {},
   "source": [
    "#### Importing Libraries"
   ]
  },
  {
   "cell_type": "code",
   "execution_count": 1,
   "metadata": {},
   "outputs": [
    {
     "ename": "ModuleNotFoundError",
     "evalue": "No module named 'textblob'",
     "output_type": "error",
     "traceback": [
      "\u001b[1;31m---------------------------------------------------------------------------\u001b[0m",
      "\u001b[1;31mModuleNotFoundError\u001b[0m                       Traceback (most recent call last)",
      "\u001b[1;32m<ipython-input-1-981d796c8850>\u001b[0m in \u001b[0;36m<module>\u001b[1;34m\u001b[0m\n\u001b[1;32m----> 1\u001b[1;33m \u001b[1;32mfrom\u001b[0m \u001b[0mtextblob\u001b[0m \u001b[1;32mimport\u001b[0m \u001b[0mTextBlob\u001b[0m\u001b[1;33m\u001b[0m\u001b[1;33m\u001b[0m\u001b[0m\n\u001b[0m\u001b[0;32m      2\u001b[0m \u001b[1;32mimport\u001b[0m \u001b[0msys\u001b[0m\u001b[1;33m,\u001b[0m\u001b[0mtweepy\u001b[0m\u001b[1;33m\u001b[0m\u001b[1;33m\u001b[0m\u001b[0m\n\u001b[0;32m      3\u001b[0m \u001b[1;32mimport\u001b[0m \u001b[0mmatplotlib\u001b[0m\u001b[1;33m.\u001b[0m\u001b[0mpyplot\u001b[0m \u001b[1;32mas\u001b[0m \u001b[0mplt\u001b[0m\u001b[1;33m\u001b[0m\u001b[1;33m\u001b[0m\u001b[0m\n",
      "\u001b[1;31mModuleNotFoundError\u001b[0m: No module named 'textblob'"
     ]
    }
   ],
   "source": [
    "from textblob import TextBlob\n",
    "import sys,tweepy\n",
    "import matplotlib.pyplot as plt"
   ]
  },
  {
   "cell_type": "markdown",
   "metadata": {},
   "source": [
    "#### Connection with twitter through API"
   ]
  },
  {
   "cell_type": "code",
   "execution_count": null,
   "metadata": {},
   "outputs": [],
   "source": [
    "ckey=\"f2GbmGwx6W9AsEJpmEgB31Snd\"\n",
    "csecret=\"zXnH6Mxbe7oDs7hOGgMgGxWumuyWq2aNC48ozXe4CJUNORBMQ4\"\n",
    "accessToken=\"2529708276-0YuB54NbOLFuuuaidufGjRDa2CogOkB91gJTk6u\"\n",
    "accessTokenSecret=\"HX17AqKMh3lwqOFZpwflDqf6Aq0rbvqNWMuQUQ4on1DYV\""
   ]
  },
  {
   "cell_type": "code",
   "execution_count": null,
   "metadata": {},
   "outputs": [],
   "source": [
    "auth=tweepy.OAuthHandler(consumer_key=ckey,consumer_secret=csecret)\n",
    "auth.set_access_token(accessToken,accessTokenSecret)\n",
    "api=tweepy.API(auth)"
   ]
  },
  {
   "cell_type": "markdown",
   "metadata": {},
   "source": [
    "#### Taking Inputs from User"
   ]
  },
  {
   "cell_type": "code",
   "execution_count": null,
   "metadata": {},
   "outputs": [],
   "source": [
    "searchTerm=input(\"Enter keyword/ hashtag to search about:\")\n",
    "noOfsearchTerms=int(input(\"Enter how many tweet to analyze:\"))"
   ]
  },
  {
   "cell_type": "markdown",
   "metadata": {},
   "source": [
    "#### Analysing User's Sentiments "
   ]
  },
  {
   "cell_type": "code",
   "execution_count": null,
   "metadata": {},
   "outputs": [],
   "source": [
    "t=tweepy.Cursor(api.search,q=searchTerm,lang=\"en\").items(noOfsearchTerms)\n",
    "\n",
    "positive=0\n",
    "negative=0\n",
    "neutral=0\n",
    "polarity=0\n",
    "\n",
    "\n",
    "for tweet in t:\n",
    "    analysis = TextBlob(tweet.text)\n",
    "    polarity+=analysis.sentiment.polarity\n",
    "\n",
    "    if(analysis.sentiment.polarity == 0):\n",
    "        neutral+=1\n",
    "    elif(analysis.sentiment.polarity<0.00):\n",
    "        negative+=1\n",
    "    if(analysis.sentiment.polarity>0.00):\n",
    "        positive+=1\n",
    "    \n",
    "print(\"Total Positive:\",positive)\n",
    "print(\"Total Negative:\",negative)\n",
    "print(\"Total Neutral:\",neutral)\n",
    "\n",
    "print(\"How people are reacting on \"+searchTerm+\" by analysing \"+str(noOfsearchTerms)+\" Tweets.\")\n",
    "\n",
    "if positive>negative and positive>neutral:\n",
    "    print(\"Positive\")\n",
    "elif negative>positive and negative>neutral:\n",
    "    print(\"Negative\")\n",
    "elif neutral>positive and neutral>negative:\n",
    "    print(\"Neutral\")"
   ]
  },
  {
   "cell_type": "markdown",
   "metadata": {},
   "source": [
    "#### Data representation of Sentiments"
   ]
  },
  {
   "cell_type": "code",
   "execution_count": null,
   "metadata": {},
   "outputs": [],
   "source": [
    "def percentage(part,whole):\n",
    "    return 100* (float(part)/float(whole))"
   ]
  },
  {
   "cell_type": "code",
   "execution_count": null,
   "metadata": {},
   "outputs": [],
   "source": [
    "positive=percentage(positive,noOfsearchTerms)\n",
    "negative=percentage(negative,noOfsearchTerms)\n",
    "neutral=percentage(neutral,noOfsearchTerms)\n",
    "polarity=percentage(polarity,noOfsearchTerms)\n",
    "\n",
    "positive=format(positive,'.2f')\n",
    "negative=format(negative,'.2f')\n",
    "neutral=format(neutral,'.2f')"
   ]
  },
  {
   "cell_type": "code",
   "execution_count": null,
   "metadata": {},
   "outputs": [],
   "source": [
    "labels=['Positive['+str(positive)+'%]','Neutral['+str(neutral)+'%]','Negative['+str(negative)+'%]']\n",
    "sizes=[positive,neutral,negative]\n",
    "colors=['yellowgreen','gold','red']\n",
    "patches,texts=plt.pie(sizes,colors=colors,startangle=90)\n",
    "plt.legend(patches,labels,loc=\"best\")\n",
    "plt.title('How people are reacting on ' +searchTerm+' by analysing '+str(noOfsearchTerms)+' Tweets.')\n",
    "plt.axis('equal')\n",
    "plt.tight_layout()\n",
    "plt.show()"
   ]
  }
 ],
 "metadata": {
  "kernelspec": {
   "display_name": "Python 3",
   "language": "python",
   "name": "python3"
  },
  "language_info": {
   "codemirror_mode": {
    "name": "ipython",
    "version": 3
   },
   "file_extension": ".py",
   "mimetype": "text/x-python",
   "name": "python",
   "nbconvert_exporter": "python",
   "pygments_lexer": "ipython3",
   "version": "3.7.6"
  }
 },
 "nbformat": 4,
 "nbformat_minor": 4
}
